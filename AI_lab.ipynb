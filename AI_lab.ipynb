{
  "metadata": {
    "kernelspec": {
      "language": "python",
      "display_name": "Python 3",
      "name": "python3"
    },
    "language_info": {
      "name": "python",
      "version": "3.7.6",
      "mimetype": "text/x-python",
      "codemirror_mode": {
        "name": "ipython",
        "version": 3
      },
      "pygments_lexer": "ipython3",
      "nbconvert_exporter": "python",
      "file_extension": ".py"
    },
    "colab": {
      "provenance": [],
      "include_colab_link": true
    }
  },
  "nbformat_minor": 0,
  "nbformat": 4,
  "cells": [
    {
      "cell_type": "markdown",
      "metadata": {
        "id": "view-in-github",
        "colab_type": "text"
      },
      "source": [
        "<a href=\"https://colab.research.google.com/github/MoNasr0/4th-Engineering-labs/blob/main/AI_lab.ipynb\" target=\"_parent\"><img src=\"https://colab.research.google.com/assets/colab-badge.svg\" alt=\"Open In Colab\"/></a>"
      ]
    },
    {
      "cell_type": "code",
      "source": [
        "import numpy as np # linear algebra\n",
        "import pandas as pd # data processing\n",
        "import seaborn as sns\n",
        "import matplotlib.pyplot as plt\n",
        "\n",
        "from sklearn.model_selection import GridSearchCV\n",
        "from sklearn.model_selection import cross_val_score\n",
        "from sklearn.metrics import make_scorer, accuracy_score,precision_score,recall_score,confusion_matrix # calc acc, precision, recall\n",
        "\n",
        "import os\n",
        "for dirname, _, filenames in os.walk('/kaggle/input'):\n",
        "    for filename in filenames:\n",
        "        print(os.path.join(dirname, filename))"
      ],
      "metadata": {
        "_uuid": "8f2839f25d086af736a60e9eeb907d3b93b6e0e5",
        "_cell_guid": "b1076dfc-b9ad-4769-8c92-a6c4dae69d19",
        "execution": {
          "iopub.status.busy": "2023-10-14T19:54:17.867374Z",
          "iopub.execute_input": "2023-10-14T19:54:17.868025Z",
          "iopub.status.idle": "2023-10-14T19:54:17.878856Z",
          "shell.execute_reply.started": "2023-10-14T19:54:17.867987Z",
          "shell.execute_reply": "2023-10-14T19:54:17.877934Z"
        },
        "trusted": true,
        "id": "WcWfphJGz36h",
        "outputId": "803ade04-90c7-4ec3-8aba-065e8759db9c"
      },
      "execution_count": null,
      "outputs": [
        {
          "name": "stdout",
          "text": "/kaggle/input/drug-classification/drug200.csv\n",
          "output_type": "stream"
        }
      ]
    },
    {
      "cell_type": "markdown",
      "source": [
        "<a id='1'></a>\n",
        "# Read Data and PreCheck"
      ],
      "metadata": {
        "id": "UgK8Tzk3z36p"
      }
    },
    {
      "cell_type": "code",
      "source": [
        "df = pd.read_csv(\"../input/drug-classification/drug200.csv\")"
      ],
      "metadata": {
        "_uuid": "d629ff2d2480ee46fbb7e2d37f6b5fab8052498a",
        "_cell_guid": "79c7e3d0-c299-4dcb-8224-4455121ee9b0",
        "execution": {
          "iopub.status.busy": "2023-10-14T19:54:29.612927Z",
          "iopub.execute_input": "2023-10-14T19:54:29.613547Z",
          "iopub.status.idle": "2023-10-14T19:54:29.625792Z",
          "shell.execute_reply.started": "2023-10-14T19:54:29.613509Z",
          "shell.execute_reply": "2023-10-14T19:54:29.624145Z"
        },
        "trusted": true,
        "id": "eEO-9WWtz36s"
      },
      "execution_count": null,
      "outputs": []
    },
    {
      "cell_type": "code",
      "source": [
        "df.head(5)"
      ],
      "metadata": {
        "execution": {
          "iopub.status.busy": "2023-10-14T19:54:40.745933Z",
          "iopub.execute_input": "2023-10-14T19:54:40.746471Z",
          "iopub.status.idle": "2023-10-14T19:54:40.760560Z",
          "shell.execute_reply.started": "2023-10-14T19:54:40.746438Z",
          "shell.execute_reply": "2023-10-14T19:54:40.759717Z"
        },
        "trusted": true,
        "id": "kDfiwsMMz36t",
        "outputId": "2175e5f4-e121-40c4-841f-21297a3b67c6"
      },
      "execution_count": null,
      "outputs": [
        {
          "execution_count": 401,
          "output_type": "execute_result",
          "data": {
            "text/plain": "   Age Sex      BP Cholesterol  Na_to_K   Drug\n0   23   F    HIGH        HIGH   25.355  DrugY\n1   47   M     LOW        HIGH   13.093  drugC\n2   47   M     LOW        HIGH   10.114  drugC\n3   28   F  NORMAL        HIGH    7.798  drugX\n4   61   F     LOW        HIGH   18.043  DrugY",
            "text/html": "<div>\n<style scoped>\n    .dataframe tbody tr th:only-of-type {\n        vertical-align: middle;\n    }\n\n    .dataframe tbody tr th {\n        vertical-align: top;\n    }\n\n    .dataframe thead th {\n        text-align: right;\n    }\n</style>\n<table border=\"1\" class=\"dataframe\">\n  <thead>\n    <tr style=\"text-align: right;\">\n      <th></th>\n      <th>Age</th>\n      <th>Sex</th>\n      <th>BP</th>\n      <th>Cholesterol</th>\n      <th>Na_to_K</th>\n      <th>Drug</th>\n    </tr>\n  </thead>\n  <tbody>\n    <tr>\n      <th>0</th>\n      <td>23</td>\n      <td>F</td>\n      <td>HIGH</td>\n      <td>HIGH</td>\n      <td>25.355</td>\n      <td>DrugY</td>\n    </tr>\n    <tr>\n      <th>1</th>\n      <td>47</td>\n      <td>M</td>\n      <td>LOW</td>\n      <td>HIGH</td>\n      <td>13.093</td>\n      <td>drugC</td>\n    </tr>\n    <tr>\n      <th>2</th>\n      <td>47</td>\n      <td>M</td>\n      <td>LOW</td>\n      <td>HIGH</td>\n      <td>10.114</td>\n      <td>drugC</td>\n    </tr>\n    <tr>\n      <th>3</th>\n      <td>28</td>\n      <td>F</td>\n      <td>NORMAL</td>\n      <td>HIGH</td>\n      <td>7.798</td>\n      <td>drugX</td>\n    </tr>\n    <tr>\n      <th>4</th>\n      <td>61</td>\n      <td>F</td>\n      <td>LOW</td>\n      <td>HIGH</td>\n      <td>18.043</td>\n      <td>DrugY</td>\n    </tr>\n  </tbody>\n</table>\n</div>"
          },
          "metadata": {}
        }
      ]
    },
    {
      "cell_type": "code",
      "source": [
        "df.describe()"
      ],
      "metadata": {
        "execution": {
          "iopub.status.busy": "2023-10-14T19:54:47.597470Z",
          "iopub.execute_input": "2023-10-14T19:54:47.597884Z",
          "iopub.status.idle": "2023-10-14T19:54:47.616947Z",
          "shell.execute_reply.started": "2023-10-14T19:54:47.597848Z",
          "shell.execute_reply": "2023-10-14T19:54:47.615709Z"
        },
        "trusted": true,
        "id": "f-S02H35z36u",
        "outputId": "83e47528-f9ea-4367-ca99-0ac7b8f3eab0"
      },
      "execution_count": null,
      "outputs": [
        {
          "execution_count": 402,
          "output_type": "execute_result",
          "data": {
            "text/plain": "              Age     Na_to_K\ncount  200.000000  200.000000\nmean    44.315000   16.084485\nstd     16.544315    7.223956\nmin     15.000000    6.269000\n25%     31.000000   10.445500\n50%     45.000000   13.936500\n75%     58.000000   19.380000\nmax     74.000000   38.247000",
            "text/html": "<div>\n<style scoped>\n    .dataframe tbody tr th:only-of-type {\n        vertical-align: middle;\n    }\n\n    .dataframe tbody tr th {\n        vertical-align: top;\n    }\n\n    .dataframe thead th {\n        text-align: right;\n    }\n</style>\n<table border=\"1\" class=\"dataframe\">\n  <thead>\n    <tr style=\"text-align: right;\">\n      <th></th>\n      <th>Age</th>\n      <th>Na_to_K</th>\n    </tr>\n  </thead>\n  <tbody>\n    <tr>\n      <th>count</th>\n      <td>200.000000</td>\n      <td>200.000000</td>\n    </tr>\n    <tr>\n      <th>mean</th>\n      <td>44.315000</td>\n      <td>16.084485</td>\n    </tr>\n    <tr>\n      <th>std</th>\n      <td>16.544315</td>\n      <td>7.223956</td>\n    </tr>\n    <tr>\n      <th>min</th>\n      <td>15.000000</td>\n      <td>6.269000</td>\n    </tr>\n    <tr>\n      <th>25%</th>\n      <td>31.000000</td>\n      <td>10.445500</td>\n    </tr>\n    <tr>\n      <th>50%</th>\n      <td>45.000000</td>\n      <td>13.936500</td>\n    </tr>\n    <tr>\n      <th>75%</th>\n      <td>58.000000</td>\n      <td>19.380000</td>\n    </tr>\n    <tr>\n      <th>max</th>\n      <td>74.000000</td>\n      <td>38.247000</td>\n    </tr>\n  </tbody>\n</table>\n</div>"
          },
          "metadata": {}
        }
      ]
    },
    {
      "cell_type": "code",
      "source": [
        "df.isnull().sum()"
      ],
      "metadata": {
        "execution": {
          "iopub.status.busy": "2023-10-14T19:54:52.955831Z",
          "iopub.execute_input": "2023-10-14T19:54:52.956185Z",
          "iopub.status.idle": "2023-10-14T19:54:52.965103Z",
          "shell.execute_reply.started": "2023-10-14T19:54:52.956152Z",
          "shell.execute_reply": "2023-10-14T19:54:52.964021Z"
        },
        "trusted": true,
        "id": "MzuzSoF3z36v",
        "outputId": "b451e025-f90a-4a1b-93ad-a8345391f00b"
      },
      "execution_count": null,
      "outputs": [
        {
          "execution_count": 403,
          "output_type": "execute_result",
          "data": {
            "text/plain": "Age            0\nSex            0\nBP             0\nCholesterol    0\nNa_to_K        0\nDrug           0\ndtype: int64"
          },
          "metadata": {}
        }
      ]
    },
    {
      "cell_type": "code",
      "source": [
        "df.isna().sum()"
      ],
      "metadata": {
        "execution": {
          "iopub.status.busy": "2023-10-14T19:54:57.931553Z",
          "iopub.execute_input": "2023-10-14T19:54:57.931945Z",
          "iopub.status.idle": "2023-10-14T19:54:57.940902Z",
          "shell.execute_reply.started": "2023-10-14T19:54:57.931910Z",
          "shell.execute_reply": "2023-10-14T19:54:57.940005Z"
        },
        "trusted": true,
        "id": "RAwuPr8Qz36w",
        "outputId": "415222a5-aaeb-405b-9734-7c06d250ad75"
      },
      "execution_count": null,
      "outputs": [
        {
          "execution_count": 404,
          "output_type": "execute_result",
          "data": {
            "text/plain": "Age            0\nSex            0\nBP             0\nCholesterol    0\nNa_to_K        0\nDrug           0\ndtype: int64"
          },
          "metadata": {}
        }
      ]
    },
    {
      "cell_type": "code",
      "source": [
        "df.info()"
      ],
      "metadata": {
        "execution": {
          "iopub.status.busy": "2023-10-14T19:55:08.544708Z",
          "iopub.execute_input": "2023-10-14T19:55:08.545054Z",
          "iopub.status.idle": "2023-10-14T19:55:08.557374Z",
          "shell.execute_reply.started": "2023-10-14T19:55:08.545024Z",
          "shell.execute_reply": "2023-10-14T19:55:08.556302Z"
        },
        "trusted": true,
        "id": "RBLDA_ziz36x",
        "outputId": "7197da01-9fdf-436a-816b-76937e45e929"
      },
      "execution_count": null,
      "outputs": [
        {
          "name": "stdout",
          "text": "<class 'pandas.core.frame.DataFrame'>\nRangeIndex: 200 entries, 0 to 199\nData columns (total 6 columns):\n #   Column       Non-Null Count  Dtype  \n---  ------       --------------  -----  \n 0   Age          200 non-null    int64  \n 1   Sex          200 non-null    object \n 2   BP           200 non-null    object \n 3   Cholesterol  200 non-null    object \n 4   Na_to_K      200 non-null    float64\n 5   Drug         200 non-null    object \ndtypes: float64(1), int64(1), object(4)\nmemory usage: 9.5+ KB\n",
          "output_type": "stream"
        }
      ]
    },
    {
      "cell_type": "markdown",
      "source": [
        "<a id='4'></a>\n",
        "### Age Variable"
      ],
      "metadata": {
        "id": "EkLy4P4hz36x"
      }
    },
    {
      "cell_type": "code",
      "source": [
        "print(\"Max Age:\", df.Age.max())\n",
        "print(\"Min Age:\", df.Age.min())"
      ],
      "metadata": {
        "execution": {
          "iopub.status.busy": "2023-10-14T19:55:13.651425Z",
          "iopub.execute_input": "2023-10-14T19:55:13.651792Z",
          "iopub.status.idle": "2023-10-14T19:55:13.659416Z",
          "shell.execute_reply.started": "2023-10-14T19:55:13.651760Z",
          "shell.execute_reply": "2023-10-14T19:55:13.658205Z"
        },
        "trusted": true,
        "id": "KNfaSsrgz36y",
        "outputId": "0e565e68-495c-4131-8068-6c5a7b66acd8"
      },
      "execution_count": null,
      "outputs": [
        {
          "name": "stdout",
          "text": "Max Age: 74\nMin Age: 15\n",
          "output_type": "stream"
        }
      ]
    },
    {
      "cell_type": "code",
      "source": [
        "# Age distribution\n",
        "plt.figure(figsize = (10,6))\n",
        "sns.distplot(df.Age)\n",
        "plt.show()"
      ],
      "metadata": {
        "execution": {
          "iopub.status.busy": "2023-10-14T19:55:19.601419Z",
          "iopub.execute_input": "2023-10-14T19:55:19.601770Z",
          "iopub.status.idle": "2023-10-14T19:55:19.766540Z",
          "shell.execute_reply.started": "2023-10-14T19:55:19.601738Z",
          "shell.execute_reply": "2023-10-14T19:55:19.765795Z"
        },
        "trusted": true,
        "id": "Y3hdNBBRz36z",
        "outputId": "28d8e4a5-e9cc-4127-e5cc-1f07c6de81b8"
      },
      "execution_count": null,
      "outputs": [
        {
          "output_type": "display_data",
          "data": {
            "text/plain": "<Figure size 720x432 with 1 Axes>",
            "image/png": "[encoded data removed]"
          },
          "metadata": {
            "needs_background": "light"
          }
        }
      ]
    },
    {
      "cell_type": "markdown",
      "source": [
        "<a id='5'></a>\n",
        "### Sex Variable"
      ],
      "metadata": {
        "id": "XsohZyzgz36z"
      }
    },
    {
      "cell_type": "code",
      "source": [
        "df.Sex.value_counts()"
      ],
      "metadata": {
        "execution": {
          "iopub.status.busy": "2023-10-14T19:55:29.595451Z",
          "iopub.execute_input": "2023-10-14T19:55:29.595960Z",
          "iopub.status.idle": "2023-10-14T19:55:29.603495Z",
          "shell.execute_reply.started": "2023-10-14T19:55:29.595928Z",
          "shell.execute_reply": "2023-10-14T19:55:29.602500Z"
        },
        "trusted": true,
        "id": "S6AMilUlz36z",
        "outputId": "c31a861d-a126-4b1d-b83f-3e5c278648a1"
      },
      "execution_count": null,
      "outputs": [
        {
          "execution_count": 408,
          "output_type": "execute_result",
          "data": {
            "text/plain": "M    104\nF     96\nName: Sex, dtype: int64"
          },
          "metadata": {}
        }
      ]
    },
    {
      "cell_type": "code",
      "source": [
        "# Sex Distribution\n",
        "plt.figure(figsize=(9,5))\n",
        "sns.countplot(x = df.Sex)\n",
        "plt.show()"
      ],
      "metadata": {
        "execution": {
          "iopub.status.busy": "2023-10-14T19:55:37.003863Z",
          "iopub.execute_input": "2023-10-14T19:55:37.004223Z",
          "iopub.status.idle": "2023-10-14T19:55:37.112754Z",
          "shell.execute_reply.started": "2023-10-14T19:55:37.004189Z",
          "shell.execute_reply": "2023-10-14T19:55:37.111691Z"
        },
        "trusted": true,
        "id": "8ypykhZEz360",
        "outputId": "60a4054f-59d1-4707-b499-eaf875d7b11f"
      },
      "execution_count": null,
      "outputs": [
        {
          "output_type": "display_data",
          "data": {
            "text/plain": "<Figure size 648x360 with 1 Axes>",
            "image/png": "[encoded data removed]"
          },
          "metadata": {
            "needs_background": "light"
          }
        }
      ]
    },
    {
      "cell_type": "markdown",
      "source": [
        "<a id='6'></a>\n",
        "### BP Variable"
      ],
      "metadata": {
        "id": "Hpm-A7Toz360"
      }
    },
    {
      "cell_type": "code",
      "source": [
        "df.BP.value_counts()"
      ],
      "metadata": {
        "execution": {
          "iopub.status.busy": "2023-10-14T19:55:41.112243Z",
          "iopub.execute_input": "2023-10-14T19:55:41.112811Z",
          "iopub.status.idle": "2023-10-14T19:55:41.120871Z",
          "shell.execute_reply.started": "2023-10-14T19:55:41.112760Z",
          "shell.execute_reply": "2023-10-14T19:55:41.119685Z"
        },
        "trusted": true,
        "id": "dOLvB412z361",
        "outputId": "e2a6782f-a338-4e5a-f075-7e8175e26b1c"
      },
      "execution_count": null,
      "outputs": [
        {
          "execution_count": 410,
          "output_type": "execute_result",
          "data": {
            "text/plain": "HIGH      77\nLOW       64\nNORMAL    59\nName: BP, dtype: int64"
          },
          "metadata": {}
        }
      ]
    },
    {
      "cell_type": "code",
      "source": [
        "plt.figure(figsize = (9,5))\n",
        "sns.countplot(df.BP)\n",
        "plt.show()"
      ],
      "metadata": {
        "execution": {
          "iopub.status.busy": "2023-10-14T19:55:43.682822Z",
          "iopub.execute_input": "2023-10-14T19:55:43.683176Z",
          "iopub.status.idle": "2023-10-14T19:55:43.803086Z",
          "shell.execute_reply.started": "2023-10-14T19:55:43.683146Z",
          "shell.execute_reply": "2023-10-14T19:55:43.802290Z"
        },
        "trusted": true,
        "id": "TnUTSwkEz361",
        "outputId": "3b378020-79c9-457f-e401-e6a9862ffff7"
      },
      "execution_count": null,
      "outputs": [
        {
          "output_type": "display_data",
          "data": {
            "text/plain": "<Figure size 648x360 with 1 Axes>",
            "image/png": "[encoded data removed]"
          },
          "metadata": {
            "needs_background": "light"
          }
        }
      ]
    },
    {
      "cell_type": "markdown",
      "source": [
        "<a id='7'></a>\n",
        "### Cholesterol Variable"
      ],
      "metadata": {
        "id": "T_u5uZ-0z361"
      }
    },
    {
      "cell_type": "code",
      "source": [
        "df.Cholesterol.value_counts()"
      ],
      "metadata": {
        "execution": {
          "iopub.status.busy": "2023-10-14T19:55:52.194319Z",
          "iopub.execute_input": "2023-10-14T19:55:52.194966Z",
          "iopub.status.idle": "2023-10-14T19:55:52.204294Z",
          "shell.execute_reply.started": "2023-10-14T19:55:52.194914Z",
          "shell.execute_reply": "2023-10-14T19:55:52.203007Z"
        },
        "trusted": true,
        "id": "yyNRoB-kz361",
        "outputId": "b0b85015-2f2d-4c37-ab95-30ac950df964"
      },
      "execution_count": null,
      "outputs": [
        {
          "execution_count": 412,
          "output_type": "execute_result",
          "data": {
            "text/plain": "HIGH      103\nNORMAL     97\nName: Cholesterol, dtype: int64"
          },
          "metadata": {}
        }
      ]
    },
    {
      "cell_type": "code",
      "source": [
        "plt.figure(figsize = (9,5))\n",
        "sns.countplot(df.Cholesterol)\n",
        "plt.show()"
      ],
      "metadata": {
        "execution": {
          "iopub.status.busy": "2023-10-14T19:55:55.603468Z",
          "iopub.execute_input": "2023-10-14T19:55:55.603844Z",
          "iopub.status.idle": "2023-10-14T19:55:55.714792Z",
          "shell.execute_reply.started": "2023-10-14T19:55:55.603808Z",
          "shell.execute_reply": "2023-10-14T19:55:55.713736Z"
        },
        "trusted": true,
        "id": "T52VaOCRz362",
        "outputId": "90567f27-7b14-4f25-9986-1483c57e7467"
      },
      "execution_count": null,
      "outputs": [
        {
          "output_type": "display_data",
          "data": {
            "text/plain": "<Figure size 648x360 with 1 Axes>",
            "image/png": "[encoded data removed]"
          },
          "metadata": {
            "needs_background": "light"
          }
        }
      ]
    },
    {
      "cell_type": "markdown",
      "source": [
        "<a id='8'></a>\n",
        "### Na_to_K Variable"
      ],
      "metadata": {
        "id": "oTPSXzRMz362"
      }
    },
    {
      "cell_type": "code",
      "source": [
        "print(\"Max Na_to_K:\",df.Na_to_K.max())\n",
        "print(\"Min Na_to_K:\",df.Na_to_K.min())\n",
        "print(\"Mean Na_to_K:\",df.Na_to_K.mean())"
      ],
      "metadata": {
        "execution": {
          "iopub.status.busy": "2023-10-14T19:56:06.185617Z",
          "iopub.execute_input": "2023-10-14T19:56:06.185971Z",
          "iopub.status.idle": "2023-10-14T19:56:06.192596Z",
          "shell.execute_reply.started": "2023-10-14T19:56:06.185941Z",
          "shell.execute_reply": "2023-10-14T19:56:06.191736Z"
        },
        "trusted": true,
        "id": "nNcsPxNnz362",
        "outputId": "5ceeed00-1543-4217-bbfb-af3f4c5685db"
      },
      "execution_count": null,
      "outputs": [
        {
          "name": "stdout",
          "text": "Max Na_to_K: 38.247\nMin Na_to_K: 6.269\nMean Na_to_K: 16.08448499999999\n",
          "output_type": "stream"
        }
      ]
    },
    {
      "cell_type": "code",
      "source": [
        "plt.figure(figsize = (9,5))\n",
        "sns.distplot(df.Na_to_K)\n",
        "plt.show()"
      ],
      "metadata": {
        "execution": {
          "iopub.status.busy": "2023-10-14T19:56:09.374738Z",
          "iopub.execute_input": "2023-10-14T19:56:09.375100Z",
          "iopub.status.idle": "2023-10-14T19:56:09.526416Z",
          "shell.execute_reply.started": "2023-10-14T19:56:09.375065Z",
          "shell.execute_reply": "2023-10-14T19:56:09.525250Z"
        },
        "trusted": true,
        "id": "djhopQWCz363",
        "outputId": "1f8e7255-2ca7-4ffe-d21f-f0b2e2a90cbb"
      },
      "execution_count": null,
      "outputs": [
        {
          "output_type": "display_data",
          "data": {
            "text/plain": "<Figure size 648x360 with 1 Axes>",
            "image/png": "[encoded data removed]"
          },
          "metadata": {
            "needs_background": "light"
          }
        }
      ]
    },
    {
      "cell_type": "markdown",
      "source": [
        "<a id='9'></a>\n",
        "### Drug Variable"
      ],
      "metadata": {
        "id": "jKkxDS8Qz363"
      }
    },
    {
      "cell_type": "code",
      "source": [
        "df.Drug.value_counts()"
      ],
      "metadata": {
        "execution": {
          "iopub.status.busy": "2023-10-14T19:56:14.472791Z",
          "iopub.execute_input": "2023-10-14T19:56:14.473147Z",
          "iopub.status.idle": "2023-10-14T19:56:14.481717Z",
          "shell.execute_reply.started": "2023-10-14T19:56:14.473115Z",
          "shell.execute_reply": "2023-10-14T19:56:14.480627Z"
        },
        "trusted": true,
        "id": "YRy4ua8Fz363",
        "outputId": "a52f8cba-5d75-4d1b-d6dc-167b3875fdb5"
      },
      "execution_count": null,
      "outputs": [
        {
          "execution_count": 417,
          "output_type": "execute_result",
          "data": {
            "text/plain": "DrugY    91\ndrugX    54\ndrugA    23\ndrugB    16\ndrugC    16\nName: Drug, dtype: int64"
          },
          "metadata": {}
        }
      ]
    },
    {
      "cell_type": "code",
      "source": [
        "plt.figure(figsize = (9,5))\n",
        "sns.countplot(df.Drug)\n",
        "plt.show()"
      ],
      "metadata": {
        "execution": {
          "iopub.status.busy": "2023-10-14T19:56:17.447819Z",
          "iopub.execute_input": "2023-10-14T19:56:17.448175Z",
          "iopub.status.idle": "2023-10-14T19:56:17.573888Z",
          "shell.execute_reply.started": "2023-10-14T19:56:17.448145Z",
          "shell.execute_reply": "2023-10-14T19:56:17.572765Z"
        },
        "trusted": true,
        "id": "L8uxXHNxz364",
        "outputId": "8e597742-a2d2-4476-df5a-2b24a2ae9f74"
      },
      "execution_count": null,
      "outputs": [
        {
          "output_type": "display_data",
          "data": {
            "text/plain": "<Figure size 648x360 with 1 Axes>",
            "image/png": "[encoded data removed]"
          },
          "metadata": {
            "needs_background": "light"
          }
        }
      ]
    },
    {
      "cell_type": "markdown",
      "source": [
        "<a id='11'></a>\n",
        "## Age -- Drug"
      ],
      "metadata": {
        "id": "ix1cth_Bz364"
      }
    },
    {
      "cell_type": "code",
      "source": [
        "# show distribute of drugs by ages\n",
        "\n",
        "# 1: with plotting\n",
        "plt.figure(figsize = (9,5))\n",
        "sns.swarmplot(x = \"Drug\", y = \"Age\",data = df)\n",
        "plt.legend(df.Drug.value_counts().index)\n",
        "plt.title(\"Age -- Drug\")\n",
        "plt.show()\n",
        "\n",
        "# 2: with boxplot to show start, end, max points\n",
        "sns.boxplot(data=df, x = \"Drug\", y = \"Age\")"
      ],
      "metadata": {
        "execution": {
          "iopub.status.busy": "2023-10-14T19:56:22.614581Z",
          "iopub.execute_input": "2023-10-14T19:56:22.614944Z",
          "iopub.status.idle": "2023-10-14T19:56:22.985989Z",
          "shell.execute_reply.started": "2023-10-14T19:56:22.614914Z",
          "shell.execute_reply": "2023-10-14T19:56:22.985204Z"
        },
        "trusted": true,
        "id": "upj5LjGfz364",
        "outputId": "db63e18d-5110-486e-ff28-32e6ad3d250a"
      },
      "execution_count": null,
      "outputs": [
        {
          "output_type": "display_data",
          "data": {
            "text/plain": "<Figure size 648x360 with 1 Axes>",
            "image/png": "[encoded data removed]"
          },
          "metadata": {
            "needs_background": "light"
          }
        },
        {
          "execution_count": 419,
          "output_type": "execute_result",
          "data": {
            "text/plain": "<matplotlib.axes._subplots.AxesSubplot at 0x7b41a3fac750>"
          },
          "metadata": {}
        },
        {
          "output_type": "display_data",
          "data": {
            "text/plain": "<Figure size 432x288 with 1 Axes>",
            "image/png": "[encoded data removed]"
          },
          "metadata": {
            "needs_background": "light"
          }
        }
      ]
    },
    {
      "cell_type": "code",
      "source": [
        "print(\"Minimum Age of DrugB\",df.Age[df.Drug == \"drugB\"].min())\n",
        "print(\"Maximum Age of DrugA\",df.Age[df.Drug == \"drugA\"].max())"
      ],
      "metadata": {
        "execution": {
          "iopub.status.busy": "2023-10-14T19:56:32.291770Z",
          "iopub.execute_input": "2023-10-14T19:56:32.292345Z",
          "iopub.status.idle": "2023-10-14T19:56:32.302055Z",
          "shell.execute_reply.started": "2023-10-14T19:56:32.292292Z",
          "shell.execute_reply": "2023-10-14T19:56:32.300988Z"
        },
        "trusted": true,
        "id": "d6UjkemCz365",
        "outputId": "9211e17a-4ff9-454c-f66d-a18dd0dda986"
      },
      "execution_count": null,
      "outputs": [
        {
          "name": "stdout",
          "text": "Minimum Age of DrugB 51\nMaximum Age of DrugA 50\n",
          "output_type": "stream"
        }
      ]
    },
    {
      "cell_type": "markdown",
      "source": [
        "<a id='12'></a>\n",
        "## Sex -- Drug"
      ],
      "metadata": {
        "id": "4zGjAMRtz365"
      }
    },
    {
      "cell_type": "code",
      "source": [
        "df_Sex_Drug = df.groupby([\"Drug\",\"Sex\"]).size().reset_index(name = \"Count\")\n",
        "df_Sex_Drug"
      ],
      "metadata": {
        "execution": {
          "iopub.status.busy": "2023-10-14T19:56:35.554320Z",
          "iopub.execute_input": "2023-10-14T19:56:35.554948Z",
          "iopub.status.idle": "2023-10-14T19:56:35.571486Z",
          "shell.execute_reply.started": "2023-10-14T19:56:35.554887Z",
          "shell.execute_reply": "2023-10-14T19:56:35.570288Z"
        },
        "trusted": true,
        "id": "zv2AYI4Nz365",
        "outputId": "98fd8a10-ba4a-411c-d79b-4757989bbd05"
      },
      "execution_count": null,
      "outputs": [
        {
          "execution_count": 421,
          "output_type": "execute_result",
          "data": {
            "text/plain": "    Drug Sex  Count\n0  DrugY   F     47\n1  DrugY   M     44\n2  drugA   F      9\n3  drugA   M     14\n4  drugB   F      6\n5  drugB   M     10\n6  drugC   F      7\n7  drugC   M      9\n8  drugX   F     27\n9  drugX   M     27",
            "text/html": "<div>\n<style scoped>\n    .dataframe tbody tr th:only-of-type {\n        vertical-align: middle;\n    }\n\n    .dataframe tbody tr th {\n        vertical-align: top;\n    }\n\n    .dataframe thead th {\n        text-align: right;\n    }\n</style>\n<table border=\"1\" class=\"dataframe\">\n  <thead>\n    <tr style=\"text-align: right;\">\n      <th></th>\n      <th>Drug</th>\n      <th>Sex</th>\n      <th>Count</th>\n    </tr>\n  </thead>\n  <tbody>\n    <tr>\n      <th>0</th>\n      <td>DrugY</td>\n      <td>F</td>\n      <td>47</td>\n    </tr>\n    <tr>\n      <th>1</th>\n      <td>DrugY</td>\n      <td>M</td>\n      <td>44</td>\n    </tr>\n    <tr>\n      <th>2</th>\n      <td>drugA</td>\n      <td>F</td>\n      <td>9</td>\n    </tr>\n    <tr>\n      <th>3</th>\n      <td>drugA</td>\n      <td>M</td>\n      <td>14</td>\n    </tr>\n    <tr>\n      <th>4</th>\n      <td>drugB</td>\n      <td>F</td>\n      <td>6</td>\n    </tr>\n    <tr>\n      <th>5</th>\n      <td>drugB</td>\n      <td>M</td>\n      <td>10</td>\n    </tr>\n    <tr>\n      <th>6</th>\n      <td>drugC</td>\n      <td>F</td>\n      <td>7</td>\n    </tr>\n    <tr>\n      <th>7</th>\n      <td>drugC</td>\n      <td>M</td>\n      <td>9</td>\n    </tr>\n    <tr>\n      <th>8</th>\n      <td>drugX</td>\n      <td>F</td>\n      <td>27</td>\n    </tr>\n    <tr>\n      <th>9</th>\n      <td>drugX</td>\n      <td>M</td>\n      <td>27</td>\n    </tr>\n  </tbody>\n</table>\n</div>"
          },
          "metadata": {}
        }
      ]
    },
    {
      "cell_type": "code",
      "source": [
        "plt.figure(figsize = (9,5))\n",
        "sns.barplot(x = \"Drug\",y=\"Count\", hue = \"Sex\",data = df_Sex_Drug)\n",
        "plt.title(\"Sex -- Drug\")\n",
        "plt.show()"
      ],
      "metadata": {
        "execution": {
          "iopub.status.busy": "2023-10-14T19:56:52.242447Z",
          "iopub.execute_input": "2023-10-14T19:56:52.243111Z",
          "iopub.status.idle": "2023-10-14T19:56:52.530380Z",
          "shell.execute_reply.started": "2023-10-14T19:56:52.243060Z",
          "shell.execute_reply": "2023-10-14T19:56:52.529529Z"
        },
        "trusted": true,
        "id": "iw2fSoSFz365",
        "outputId": "1995e649-175f-4347-e1f1-8928dca4ea3d"
      },
      "execution_count": null,
      "outputs": [
        {
          "output_type": "display_data",
          "data": {
            "text/plain": "<Figure size 648x360 with 1 Axes>",
            "image/png": "[encoded data removed]"
          },
          "metadata": {
            "needs_background": "light"
          }
        }
      ]
    },
    {
      "cell_type": "markdown",
      "source": [
        "<a id='13'></a>\n",
        "## BP -- Drug"
      ],
      "metadata": {
        "id": "ix1ABI9Az366"
      }
    },
    {
      "cell_type": "code",
      "source": [
        "df_BP_Drug = df.groupby([\"Drug\",\"BP\"]).size().reset_index(name = \"Count\")\n",
        "df_BP_Drug"
      ],
      "metadata": {
        "execution": {
          "iopub.status.busy": "2023-10-14T19:57:10.902359Z",
          "iopub.execute_input": "2023-10-14T19:57:10.902741Z",
          "iopub.status.idle": "2023-10-14T19:57:10.918098Z",
          "shell.execute_reply.started": "2023-10-14T19:57:10.902704Z",
          "shell.execute_reply": "2023-10-14T19:57:10.916982Z"
        },
        "trusted": true,
        "id": "T3zKBH2Lz366",
        "outputId": "077cf3a4-bb6a-44f2-c0eb-0077478e21f3"
      },
      "execution_count": null,
      "outputs": [
        {
          "execution_count": 423,
          "output_type": "execute_result",
          "data": {
            "text/plain": "    Drug      BP  Count\n0  DrugY    HIGH     38\n1  DrugY     LOW     30\n2  DrugY  NORMAL     23\n3  drugA    HIGH     23\n4  drugB    HIGH     16\n5  drugC     LOW     16\n6  drugX     LOW     18\n7  drugX  NORMAL     36",
            "text/html": "<div>\n<style scoped>\n    .dataframe tbody tr th:only-of-type {\n        vertical-align: middle;\n    }\n\n    .dataframe tbody tr th {\n        vertical-align: top;\n    }\n\n    .dataframe thead th {\n        text-align: right;\n    }\n</style>\n<table border=\"1\" class=\"dataframe\">\n  <thead>\n    <tr style=\"text-align: right;\">\n      <th></th>\n      <th>Drug</th>\n      <th>BP</th>\n      <th>Count</th>\n    </tr>\n  </thead>\n  <tbody>\n    <tr>\n      <th>0</th>\n      <td>DrugY</td>\n      <td>HIGH</td>\n      <td>38</td>\n    </tr>\n    <tr>\n      <th>1</th>\n      <td>DrugY</td>\n      <td>LOW</td>\n      <td>30</td>\n    </tr>\n    <tr>\n      <th>2</th>\n      <td>DrugY</td>\n      <td>NORMAL</td>\n      <td>23</td>\n    </tr>\n    <tr>\n      <th>3</th>\n      <td>drugA</td>\n      <td>HIGH</td>\n      <td>23</td>\n    </tr>\n    <tr>\n      <th>4</th>\n      <td>drugB</td>\n      <td>HIGH</td>\n      <td>16</td>\n    </tr>\n    <tr>\n      <th>5</th>\n      <td>drugC</td>\n      <td>LOW</td>\n      <td>16</td>\n    </tr>\n    <tr>\n      <th>6</th>\n      <td>drugX</td>\n      <td>LOW</td>\n      <td>18</td>\n    </tr>\n    <tr>\n      <th>7</th>\n      <td>drugX</td>\n      <td>NORMAL</td>\n      <td>36</td>\n    </tr>\n  </tbody>\n</table>\n</div>"
          },
          "metadata": {}
        }
      ]
    },
    {
      "cell_type": "code",
      "source": [
        "plt.figure(figsize = (9,5))\n",
        "sns.barplot(x = \"Drug\",y=\"Count\", hue = \"BP\",data = df_BP_Drug)\n",
        "plt.title(\"BP -- Drug\")\n",
        "plt.show()"
      ],
      "metadata": {
        "execution": {
          "iopub.status.busy": "2023-10-14T19:57:16.845483Z",
          "iopub.execute_input": "2023-10-14T19:57:16.846022Z",
          "iopub.status.idle": "2023-10-14T19:57:17.056762Z",
          "shell.execute_reply.started": "2023-10-14T19:57:16.845987Z",
          "shell.execute_reply": "2023-10-14T19:57:17.055925Z"
        },
        "trusted": true,
        "id": "7uAzVBO8z366",
        "outputId": "5d49e200-3e04-4951-d95f-ecfbd5803fd1"
      },
      "execution_count": null,
      "outputs": [
        {
          "output_type": "display_data",
          "data": {
            "text/plain": "<Figure size 648x360 with 1 Axes>",
            "image/png": "[encoded data removed]"
          },
          "metadata": {
            "needs_background": "light"
          }
        }
      ]
    },
    {
      "cell_type": "markdown",
      "source": [
        "<a id='14'></a>\n",
        "## Na_to_K -- Drug"
      ],
      "metadata": {
        "id": "NdmQRR2yz366"
      }
    },
    {
      "cell_type": "code",
      "source": [
        "plt.figure(figsize = (9,5))\n",
        "sns.swarmplot(x = \"Drug\", y = \"Na_to_K\",data = df)\n",
        "plt.title(\"Na_to_K -- Drug\")\n",
        "plt.show()"
      ],
      "metadata": {
        "execution": {
          "iopub.status.busy": "2023-10-14T19:57:31.834551Z",
          "iopub.execute_input": "2023-10-14T19:57:31.835075Z",
          "iopub.status.idle": "2023-10-14T19:57:32.011521Z",
          "shell.execute_reply.started": "2023-10-14T19:57:31.835042Z",
          "shell.execute_reply": "2023-10-14T19:57:32.010657Z"
        },
        "trusted": true,
        "id": "xSC-JKf_z366",
        "outputId": "8ec9b94f-4996-43d8-c3a9-4e2862a4f004"
      },
      "execution_count": null,
      "outputs": [
        {
          "output_type": "display_data",
          "data": {
            "text/plain": "<Figure size 648x360 with 1 Axes>",
            "image/png": "[encoded data removed]"
          },
          "metadata": {
            "needs_background": "light"
          }
        }
      ]
    },
    {
      "cell_type": "markdown",
      "source": [
        "<a id='15'></a>\n",
        "## Cholesterol -- Drug"
      ],
      "metadata": {
        "id": "HtBuzn8-z367"
      }
    },
    {
      "cell_type": "code",
      "source": [
        "df_CH_Drug = df.groupby([\"Drug\",\"Cholesterol\"]).size().reset_index(name = \"Count\")\n",
        "df_CH_Drug"
      ],
      "metadata": {
        "execution": {
          "iopub.status.busy": "2023-10-14T19:58:08.732770Z",
          "iopub.execute_input": "2023-10-14T19:58:08.733368Z",
          "iopub.status.idle": "2023-10-14T19:58:08.747389Z",
          "shell.execute_reply.started": "2023-10-14T19:58:08.733331Z",
          "shell.execute_reply": "2023-10-14T19:58:08.746441Z"
        },
        "trusted": true,
        "id": "baoa8NV9z367",
        "outputId": "cb92bc6e-bba5-49b2-c094-dd7fecf4bc8b"
      },
      "execution_count": null,
      "outputs": [
        {
          "execution_count": 427,
          "output_type": "execute_result",
          "data": {
            "text/plain": "    Drug Cholesterol  Count\n0  DrugY        HIGH     47\n1  DrugY      NORMAL     44\n2  drugA        HIGH     12\n3  drugA      NORMAL     11\n4  drugB        HIGH      8\n5  drugB      NORMAL      8\n6  drugC        HIGH     16\n7  drugX        HIGH     20\n8  drugX      NORMAL     34",
            "text/html": "<div>\n<style scoped>\n    .dataframe tbody tr th:only-of-type {\n        vertical-align: middle;\n    }\n\n    .dataframe tbody tr th {\n        vertical-align: top;\n    }\n\n    .dataframe thead th {\n        text-align: right;\n    }\n</style>\n<table border=\"1\" class=\"dataframe\">\n  <thead>\n    <tr style=\"text-align: right;\">\n      <th></th>\n      <th>Drug</th>\n      <th>Cholesterol</th>\n      <th>Count</th>\n    </tr>\n  </thead>\n  <tbody>\n    <tr>\n      <th>0</th>\n      <td>DrugY</td>\n      <td>HIGH</td>\n      <td>47</td>\n    </tr>\n    <tr>\n      <th>1</th>\n      <td>DrugY</td>\n      <td>NORMAL</td>\n      <td>44</td>\n    </tr>\n    <tr>\n      <th>2</th>\n      <td>drugA</td>\n      <td>HIGH</td>\n      <td>12</td>\n    </tr>\n    <tr>\n      <th>3</th>\n      <td>drugA</td>\n      <td>NORMAL</td>\n      <td>11</td>\n    </tr>\n    <tr>\n      <th>4</th>\n      <td>drugB</td>\n      <td>HIGH</td>\n      <td>8</td>\n    </tr>\n    <tr>\n      <th>5</th>\n      <td>drugB</td>\n      <td>NORMAL</td>\n      <td>8</td>\n    </tr>\n    <tr>\n      <th>6</th>\n      <td>drugC</td>\n      <td>HIGH</td>\n      <td>16</td>\n    </tr>\n    <tr>\n      <th>7</th>\n      <td>drugX</td>\n      <td>HIGH</td>\n      <td>20</td>\n    </tr>\n    <tr>\n      <th>8</th>\n      <td>drugX</td>\n      <td>NORMAL</td>\n      <td>34</td>\n    </tr>\n  </tbody>\n</table>\n</div>"
          },
          "metadata": {}
        }
      ]
    },
    {
      "cell_type": "code",
      "source": [
        "plt.figure(figsize = (9,5))\n",
        "sns.barplot(x = \"Drug\",y=\"Count\", hue = \"Cholesterol\",data = df_CH_Drug)\n",
        "plt.title(\"Cholesterol -- Drug\")\n",
        "plt.show()"
      ],
      "metadata": {
        "execution": {
          "iopub.status.busy": "2023-10-14T19:58:13.147817Z",
          "iopub.execute_input": "2023-10-14T19:58:13.148200Z",
          "iopub.status.idle": "2023-10-14T19:58:13.321978Z",
          "shell.execute_reply.started": "2023-10-14T19:58:13.148161Z",
          "shell.execute_reply": "2023-10-14T19:58:13.320766Z"
        },
        "trusted": true,
        "id": "sma3l1yQz36_",
        "outputId": "c40de87b-2dba-499b-8052-7dedff6d3239"
      },
      "execution_count": null,
      "outputs": [
        {
          "output_type": "display_data",
          "data": {
            "text/plain": "<Figure size 648x360 with 1 Axes>",
            "image/png": "[encoded data removed]"
          },
          "metadata": {
            "needs_background": "light"
          }
        }
      ]
    },
    {
      "cell_type": "markdown",
      "source": [
        "<a id='16'></a>\n",
        "## Na_to_K -- BP -- Drug"
      ],
      "metadata": {
        "id": "QzsXKLETz37A"
      }
    },
    {
      "cell_type": "code",
      "source": [
        "plt.figure(figsize = (9,5))\n",
        "sns.swarmplot(x = \"Drug\", y = \"Na_to_K\",hue=\"BP\",data = df)\n",
        "plt.legend()\n",
        "plt.title(\"Na_to_K -- BP -- Drug\")\n",
        "plt.show()"
      ],
      "metadata": {
        "execution": {
          "iopub.status.busy": "2023-10-14T19:58:19.465583Z",
          "iopub.execute_input": "2023-10-14T19:58:19.466367Z",
          "iopub.status.idle": "2023-10-14T19:58:19.783224Z",
          "shell.execute_reply.started": "2023-10-14T19:58:19.466317Z",
          "shell.execute_reply": "2023-10-14T19:58:19.782393Z"
        },
        "trusted": true,
        "id": "KkCRmX7Cz37A",
        "outputId": "da2c1fd1-1ab9-4c5c-da6f-d09815950956"
      },
      "execution_count": null,
      "outputs": [
        {
          "output_type": "display_data",
          "data": {
            "text/plain": "<Figure size 648x360 with 1 Axes>",
            "image/png": "[encoded data removed]"
          },
          "metadata": {
            "needs_background": "light"
          }
        }
      ]
    },
    {
      "cell_type": "markdown",
      "source": [
        "<a id='17'></a>\n",
        "# Preparing Data and Feature Engineering"
      ],
      "metadata": {
        "id": "dvP6Fj0Az37A"
      }
    },
    {
      "cell_type": "markdown",
      "source": [
        "<a id='19'></a>\n",
        "### Na_to_K_Bigger_Than_15\n",
        "\n",
        "If Na_to_K is bigger than 15, it is always drugY."
      ],
      "metadata": {
        "id": "TqqjqNC1z37A"
      }
    },
    {
      "cell_type": "code",
      "source": [
        "df['Na_to_K_Bigger_Than_15'] = [1 if i >=15.015 else 0 for i in df.Na_to_K]\n",
        "df.head()"
      ],
      "metadata": {
        "execution": {
          "iopub.status.busy": "2023-10-14T19:59:01.621366Z",
          "iopub.execute_input": "2023-10-14T19:59:01.621745Z",
          "iopub.status.idle": "2023-10-14T19:59:01.637078Z",
          "shell.execute_reply.started": "2023-10-14T19:59:01.621709Z",
          "shell.execute_reply": "2023-10-14T19:59:01.636008Z"
        },
        "trusted": true,
        "id": "E-fhVljkz37A",
        "outputId": "628c40d8-70b2-4d38-8cae-5c516c98aca2"
      },
      "execution_count": null,
      "outputs": [
        {
          "execution_count": 430,
          "output_type": "execute_result",
          "data": {
            "text/plain": "   Age Sex      BP Cholesterol  Na_to_K   Drug  Na_to_K_Bigger_Than_15\n0   23   F    HIGH        HIGH   25.355  DrugY                       1\n1   47   M     LOW        HIGH   13.093  drugC                       0\n2   47   M     LOW        HIGH   10.114  drugC                       0\n3   28   F  NORMAL        HIGH    7.798  drugX                       0\n4   61   F     LOW        HIGH   18.043  DrugY                       1",
            "text/html": "<div>\n<style scoped>\n    .dataframe tbody tr th:only-of-type {\n        vertical-align: middle;\n    }\n\n    .dataframe tbody tr th {\n        vertical-align: top;\n    }\n\n    .dataframe thead th {\n        text-align: right;\n    }\n</style>\n<table border=\"1\" class=\"dataframe\">\n  <thead>\n    <tr style=\"text-align: right;\">\n      <th></th>\n      <th>Age</th>\n      <th>Sex</th>\n      <th>BP</th>\n      <th>Cholesterol</th>\n      <th>Na_to_K</th>\n      <th>Drug</th>\n      <th>Na_to_K_Bigger_Than_15</th>\n    </tr>\n  </thead>\n  <tbody>\n    <tr>\n      <th>0</th>\n      <td>23</td>\n      <td>F</td>\n      <td>HIGH</td>\n      <td>HIGH</td>\n      <td>25.355</td>\n      <td>DrugY</td>\n      <td>1</td>\n    </tr>\n    <tr>\n      <th>1</th>\n      <td>47</td>\n      <td>M</td>\n      <td>LOW</td>\n      <td>HIGH</td>\n      <td>13.093</td>\n      <td>drugC</td>\n      <td>0</td>\n    </tr>\n    <tr>\n      <th>2</th>\n      <td>47</td>\n      <td>M</td>\n      <td>LOW</td>\n      <td>HIGH</td>\n      <td>10.114</td>\n      <td>drugC</td>\n      <td>0</td>\n    </tr>\n    <tr>\n      <th>3</th>\n      <td>28</td>\n      <td>F</td>\n      <td>NORMAL</td>\n      <td>HIGH</td>\n      <td>7.798</td>\n      <td>drugX</td>\n      <td>0</td>\n    </tr>\n    <tr>\n      <th>4</th>\n      <td>61</td>\n      <td>F</td>\n      <td>LOW</td>\n      <td>HIGH</td>\n      <td>18.043</td>\n      <td>DrugY</td>\n      <td>1</td>\n    </tr>\n  </tbody>\n</table>\n</div>"
          },
          "metadata": {}
        }
      ]
    },
    {
      "cell_type": "code",
      "source": [
        "df_NaK15 = df.groupby([\"Drug\",\"Na_to_K_Bigger_Than_15\"]).size().reset_index(name = \"Count\")\n",
        "df_NaK15"
      ],
      "metadata": {
        "execution": {
          "iopub.status.busy": "2023-10-14T19:59:07.581436Z",
          "iopub.execute_input": "2023-10-14T19:59:07.581835Z",
          "iopub.status.idle": "2023-10-14T19:59:07.595988Z",
          "shell.execute_reply.started": "2023-10-14T19:59:07.581802Z",
          "shell.execute_reply": "2023-10-14T19:59:07.594997Z"
        },
        "trusted": true,
        "id": "SuqRtE8Az37A",
        "outputId": "ae469016-bb16-4d24-9251-c510e6c7edf9"
      },
      "execution_count": null,
      "outputs": [
        {
          "execution_count": 431,
          "output_type": "execute_result",
          "data": {
            "text/plain": "    Drug  Na_to_K_Bigger_Than_15  Count\n0  DrugY                       1     91\n1  drugA                       0     23\n2  drugB                       0     16\n3  drugC                       0     16\n4  drugX                       0     54",
            "text/html": "<div>\n<style scoped>\n    .dataframe tbody tr th:only-of-type {\n        vertical-align: middle;\n    }\n\n    .dataframe tbody tr th {\n        vertical-align: top;\n    }\n\n    .dataframe thead th {\n        text-align: right;\n    }\n</style>\n<table border=\"1\" class=\"dataframe\">\n  <thead>\n    <tr style=\"text-align: right;\">\n      <th></th>\n      <th>Drug</th>\n      <th>Na_to_K_Bigger_Than_15</th>\n      <th>Count</th>\n    </tr>\n  </thead>\n  <tbody>\n    <tr>\n      <th>0</th>\n      <td>DrugY</td>\n      <td>1</td>\n      <td>91</td>\n    </tr>\n    <tr>\n      <th>1</th>\n      <td>drugA</td>\n      <td>0</td>\n      <td>23</td>\n    </tr>\n    <tr>\n      <th>2</th>\n      <td>drugB</td>\n      <td>0</td>\n      <td>16</td>\n    </tr>\n    <tr>\n      <th>3</th>\n      <td>drugC</td>\n      <td>0</td>\n      <td>16</td>\n    </tr>\n    <tr>\n      <th>4</th>\n      <td>drugX</td>\n      <td>0</td>\n      <td>54</td>\n    </tr>\n  </tbody>\n</table>\n</div>"
          },
          "metadata": {}
        }
      ]
    },
    {
      "cell_type": "code",
      "source": [
        "plt.figure(figsize = (9,5))\n",
        "sns.barplot(x = \"Drug\",y=\"Count\", hue = \"Na_to_K_Bigger_Than_15\",data = df_NaK15)\n",
        "plt.title(\"Na_to_K_Bigger_Than_15 -- Drug\")\n",
        "plt.show()"
      ],
      "metadata": {
        "execution": {
          "iopub.status.busy": "2023-10-14T19:59:10.841556Z",
          "iopub.execute_input": "2023-10-14T19:59:10.842128Z",
          "iopub.status.idle": "2023-10-14T19:59:11.022631Z",
          "shell.execute_reply.started": "2023-10-14T19:59:10.842078Z",
          "shell.execute_reply": "2023-10-14T19:59:11.021768Z"
        },
        "trusted": true,
        "id": "iXvw9a4Yz37B",
        "outputId": "77e3bc94-a424-4af6-ee23-3b2d9542da53"
      },
      "execution_count": null,
      "outputs": [
        {
          "output_type": "display_data",
          "data": {
            "text/plain": "<Figure size 648x360 with 1 Axes>",
            "image/png": "[encoded data removed]"
          },
          "metadata": {
            "needs_background": "light"
          }
        }
      ]
    },
    {
      "cell_type": "code",
      "source": [
        "# converting from object to int\n",
        "from sklearn.preprocessing import LabelEncoder\n",
        "\n",
        "def label_encoder(y):\n",
        "    le = LabelEncoder()\n",
        "    df[y] = le.fit_transform(df[y])"
      ],
      "metadata": {
        "execution": {
          "iopub.status.busy": "2023-10-14T19:59:18.653580Z",
          "iopub.execute_input": "2023-10-14T19:59:18.654143Z",
          "iopub.status.idle": "2023-10-14T19:59:18.661306Z",
          "shell.execute_reply.started": "2023-10-14T19:59:18.654093Z",
          "shell.execute_reply": "2023-10-14T19:59:18.660488Z"
        },
        "trusted": true,
        "id": "sFzxXAV7z37B"
      },
      "execution_count": null,
      "outputs": []
    },
    {
      "cell_type": "code",
      "source": [
        "label_list = [\"Sex\",\"BP\",\"Cholesterol\",\"Na_to_K\",\"Na_to_K_Bigger_Than_15\",\"Drug\"]\n",
        "\n",
        "for l in label_list:\n",
        "    label_encoder(l)"
      ],
      "metadata": {
        "execution": {
          "iopub.status.busy": "2023-10-14T19:59:22.342637Z",
          "iopub.execute_input": "2023-10-14T19:59:22.343298Z",
          "iopub.status.idle": "2023-10-14T19:59:22.352434Z",
          "shell.execute_reply.started": "2023-10-14T19:59:22.343260Z",
          "shell.execute_reply": "2023-10-14T19:59:22.351348Z"
        },
        "trusted": true,
        "id": "zYpYxChiz37B"
      },
      "execution_count": null,
      "outputs": []
    },
    {
      "cell_type": "code",
      "source": [
        "df.head()"
      ],
      "metadata": {
        "execution": {
          "iopub.status.busy": "2023-10-14T19:59:30.455366Z",
          "iopub.execute_input": "2023-10-14T19:59:30.455744Z",
          "iopub.status.idle": "2023-10-14T19:59:30.468459Z",
          "shell.execute_reply.started": "2023-10-14T19:59:30.455713Z",
          "shell.execute_reply": "2023-10-14T19:59:30.467054Z"
        },
        "trusted": true,
        "id": "QB19QwGRz37B",
        "outputId": "053a74bd-7cd6-41cc-9350-ef867183d4c9"
      },
      "execution_count": null,
      "outputs": [
        {
          "execution_count": 435,
          "output_type": "execute_result",
          "data": {
            "text/plain": "   Age  Sex  BP  Cholesterol  Na_to_K  Drug  Na_to_K_Bigger_Than_15\n0   23    0   0            0      167     0                       1\n1   47    1   1            0       89     3                       0\n2   47    1   1            0       43     3                       0\n3   28    0   2            0       10     4                       0\n4   61    0   1            0      133     0                       1",
            "text/html": "<div>\n<style scoped>\n    .dataframe tbody tr th:only-of-type {\n        vertical-align: middle;\n    }\n\n    .dataframe tbody tr th {\n        vertical-align: top;\n    }\n\n    .dataframe thead th {\n        text-align: right;\n    }\n</style>\n<table border=\"1\" class=\"dataframe\">\n  <thead>\n    <tr style=\"text-align: right;\">\n      <th></th>\n      <th>Age</th>\n      <th>Sex</th>\n      <th>BP</th>\n      <th>Cholesterol</th>\n      <th>Na_to_K</th>\n      <th>Drug</th>\n      <th>Na_to_K_Bigger_Than_15</th>\n    </tr>\n  </thead>\n  <tbody>\n    <tr>\n      <th>0</th>\n      <td>23</td>\n      <td>0</td>\n      <td>0</td>\n      <td>0</td>\n      <td>167</td>\n      <td>0</td>\n      <td>1</td>\n    </tr>\n    <tr>\n      <th>1</th>\n      <td>47</td>\n      <td>1</td>\n      <td>1</td>\n      <td>0</td>\n      <td>89</td>\n      <td>3</td>\n      <td>0</td>\n    </tr>\n    <tr>\n      <th>2</th>\n      <td>47</td>\n      <td>1</td>\n      <td>1</td>\n      <td>0</td>\n      <td>43</td>\n      <td>3</td>\n      <td>0</td>\n    </tr>\n    <tr>\n      <th>3</th>\n      <td>28</td>\n      <td>0</td>\n      <td>2</td>\n      <td>0</td>\n      <td>10</td>\n      <td>4</td>\n      <td>0</td>\n    </tr>\n    <tr>\n      <th>4</th>\n      <td>61</td>\n      <td>0</td>\n      <td>1</td>\n      <td>0</td>\n      <td>133</td>\n      <td>0</td>\n      <td>1</td>\n    </tr>\n  </tbody>\n</table>\n</div>"
          },
          "metadata": {}
        }
      ]
    },
    {
      "cell_type": "markdown",
      "source": [
        "<a id='21'></a>\n",
        "## Train Test Split"
      ],
      "metadata": {
        "id": "n6B_b9_Mz37B"
      }
    },
    {
      "cell_type": "code",
      "source": [
        "from sklearn.model_selection import train_test_split\n",
        "\n",
        "# x train an test on features\n",
        "x = df.drop([\"Drug\"],axis=1)\n",
        "# y train and test on only drugs\n",
        "y = df.Drug\n",
        "\n",
        "x_train, x_test, y_train, y_test = train_test_split(x,y,test_size = 0.2, random_state = 42, shuffle = True)\n",
        "\n",
        "y_train = y_train.values.reshape(-1,1)\n",
        "y_test = y_test.values.reshape(-1,1)\n",
        "\n",
        "print(\"x_train shape:\",x_train.shape)\n",
        "print(\"x_test shape:\",x_test.shape)\n",
        "print(\"y_train shape:\",y_train.shape)\n",
        "print(\"y_test shape:\",y_test.shape)"
      ],
      "metadata": {
        "execution": {
          "iopub.status.busy": "2023-10-14T19:59:39.003310Z",
          "iopub.execute_input": "2023-10-14T19:59:39.003856Z",
          "iopub.status.idle": "2023-10-14T19:59:39.017312Z",
          "shell.execute_reply.started": "2023-10-14T19:59:39.003821Z",
          "shell.execute_reply": "2023-10-14T19:59:39.016417Z"
        },
        "trusted": true,
        "id": "L_8-CUtvz37C",
        "outputId": "e7bbebcb-d3ed-466a-a6a7-1d9b2c9cb5e7"
      },
      "execution_count": null,
      "outputs": [
        {
          "name": "stdout",
          "text": "x_train shape: (160, 6)\nx_test shape: (40, 6)\ny_train shape: (160, 1)\ny_test shape: (40, 1)\n",
          "output_type": "stream"
        }
      ]
    },
    {
      "cell_type": "markdown",
      "source": [
        "<a id='23'></a>\n",
        "## KNN Model"
      ],
      "metadata": {
        "id": "JRlzDw_jz37C"
      }
    },
    {
      "cell_type": "markdown",
      "source": [
        "<a id='24'></a>\n",
        "### Default Parameters"
      ],
      "metadata": {
        "id": "Ioas12Maz37C"
      }
    },
    {
      "cell_type": "code",
      "source": [
        "from sklearn.neighbors import KNeighborsClassifier\n",
        "\n",
        "knn = KNeighborsClassifier()\n",
        "knn.fit(x_train,y_train)\n",
        "y_pred=knn.predict(x_test)\n",
        "knn_train = np.mean(cross_val_score(knn, y_test, y_pred, cv=5) * 100)\n",
        "\n",
        "knn_accuracy = np.mean(knn.score(x_test,y_test) * 100)  #accuracy_score(y_test, y_pred)\n",
        "knn_precision = np.mean(precision_score(y_test, y_pred, average=None) * 100)\n",
        "knn_recall = round(np.mean(recall_score(y_test, y_pred, average=None) * 100))\n",
        "\n",
        "print(\"Train Score:\",str(knn_train) + \"%\")\n",
        "print(\"Accuracy Score:\",str(knn_accuracy) + \"%\")\n",
        "print(\"Precision Score : \", str(knn_precision) + \"%\")\n",
        "print(\"Recall Score : \", str(knn_recall) + \"%\")"
      ],
      "metadata": {
        "execution": {
          "iopub.status.busy": "2023-10-14T19:59:44.618241Z",
          "iopub.execute_input": "2023-10-14T19:59:44.618653Z",
          "iopub.status.idle": "2023-10-14T19:59:44.653288Z",
          "shell.execute_reply.started": "2023-10-14T19:59:44.618613Z",
          "shell.execute_reply": "2023-10-14T19:59:44.652442Z"
        },
        "trusted": true,
        "id": "h0yfvwvOz37C",
        "outputId": "9f8731d8-9727-4b4e-dc0b-a2915a97b216"
      },
      "execution_count": null,
      "outputs": [
        {
          "name": "stdout",
          "text": "Train Score: 57.5%\nAccuracy Score: 65.0%\nPrecision Score :  56.25%\nRecall Score :  56.0%\n",
          "output_type": "stream"
        }
      ]
    },
    {
      "cell_type": "markdown",
      "source": [
        "<a id='25'></a>\n",
        "### GridSearchCV on KNN"
      ],
      "metadata": {
        "id": "nF4LV1OOz37C"
      }
    },
    {
      "cell_type": "code",
      "source": [
        "# finding the optimal parameter values from a given set of parameters in a grid\n",
        "grid = {'n_neighbors':np.arange(1,120),\n",
        "        'p':np.arange(1,3),\n",
        "        'weights':['uniform','distance']\n",
        "       }\n",
        "\n",
        "knn = KNeighborsClassifier(algorithm = \"auto\")\n",
        "knn_cv = GridSearchCV(knn,grid,cv=5)\n",
        "knn_cv.fit(x_train,y_train)\n",
        "\n",
        "# train\n",
        "knn_train_cv = knn_cv.best_score_ * 100\n",
        "# test\n",
        "knn_accuracy_cv = knn_cv.score(x_test,y_test) * 100\n",
        "\n",
        "print(\"Hyperparameters:\",knn_cv.best_params_)\n",
        "print(\"Train Score:\",str(knn_train_cv) + \"%\")\n",
        "print(\"Accuracy Score:\",str(knn_accuracy_cv) + \"%\")"
      ],
      "metadata": {
        "execution": {
          "iopub.status.busy": "2023-10-14T19:59:50.027539Z",
          "iopub.execute_input": "2023-10-14T19:59:50.027894Z",
          "iopub.status.idle": "2023-10-14T20:00:03.728635Z",
          "shell.execute_reply.started": "2023-10-14T19:59:50.027865Z",
          "shell.execute_reply": "2023-10-14T20:00:03.727705Z"
        },
        "trusted": true,
        "id": "Mivw7sckz37D",
        "outputId": "3c453c1a-1fcf-4699-c2d7-fd071a524f3c"
      },
      "execution_count": null,
      "outputs": [
        {
          "name": "stdout",
          "text": "Hyperparameters: {'n_neighbors': 10, 'p': 1, 'weights': 'distance'}\nTrain Score: 75.625%\nAccuracy Score: 70.0%\n",
          "output_type": "stream"
        }
      ]
    },
    {
      "cell_type": "markdown",
      "source": [
        "<a id='26'></a>\n",
        "# Random Forest"
      ],
      "metadata": {
        "id": "Vvttp5W0z37D"
      }
    },
    {
      "cell_type": "markdown",
      "source": [
        "<a id='27'></a>\n",
        "### Default Parameters"
      ],
      "metadata": {
        "id": "t4lrxpRvz37D"
      }
    },
    {
      "cell_type": "code",
      "source": [
        "from sklearn.ensemble import RandomForestClassifier\n",
        "\n",
        "rfc = RandomForestClassifier(random_state = 42)\n",
        "rfc.fit(x_train,y_train)\n",
        "y_pred=rfc.predict(x_test)\n",
        "rfc_train = np.mean(cross_val_score(rfc, x_train, y_train, cv=5) * 100)\n",
        "\n",
        "rfc_accuracy = np.mean(rfc.score(x_test,y_test) * 100)\n",
        "rfc_precision = np.mean(precision_score(y_test, y_pred, average=None) * 100)\n",
        "rfc_recall = round(np.mean(recall_score(y_test, y_pred, average=None) * 100))\n",
        "\n",
        "\n",
        "print(\"Train Score:\",str(rfc_train) + \"%\")\n",
        "print(\"Accuracy Score:\",str(rfc_accuracy) + \"%\")\n",
        "print(\"Precision Score : \", str(rfc_precision) + \"%\")\n",
        "print(\"Recall Score : \", str(rfc_recall) + \"%\")"
      ],
      "metadata": {
        "execution": {
          "iopub.status.busy": "2023-10-14T20:00:08.651764Z",
          "iopub.execute_input": "2023-10-14T20:00:08.652350Z",
          "iopub.status.idle": "2023-10-14T20:00:09.603196Z",
          "shell.execute_reply.started": "2023-10-14T20:00:08.652316Z",
          "shell.execute_reply": "2023-10-14T20:00:09.602406Z"
        },
        "trusted": true,
        "id": "lL8Ix-YMz37D",
        "outputId": "a193dbca-952e-4d40-c414-4e9fdcadfcec"
      },
      "execution_count": null,
      "outputs": [
        {
          "name": "stdout",
          "text": "Train Score: 98.125%\nAccuracy Score: 97.5%\nPrecision Score :  98.33333333333333%\nRecall Score :  96.0%\n",
          "output_type": "stream"
        }
      ]
    },
    {
      "cell_type": "markdown",
      "source": [
        "<a id='28'></a>\n",
        "### GridSearchCV on Random Forest"
      ],
      "metadata": {
        "id": "P20LdcuAz37D"
      }
    },
    {
      "cell_type": "code",
      "source": [
        "grid = {'n_estimators':np.arange(100,1000,100),\n",
        "        'criterion':['gini','entropy']}\n",
        "\n",
        "rfc = RandomForestClassifier(random_state = 42)\n",
        "rfc_cv = GridSearchCV(rf,grid,cv=5)\n",
        "rfc_cv.fit(x_train,y_train)\n",
        "\n",
        "# train\n",
        "rfc_train_cv = rfc_cv.best_score_ * 100\n",
        "# test\n",
        "rfc_accuracy_cv = rfc_cv.score(x_test,y_test) * 100\n",
        "\n",
        "print(\"Hyperparameters:\",rfc_cv.best_params_)\n",
        "print(\"Train Score:\",str(rfc_train_cv) + \"%\")\n",
        "print(\"Accuracy Score:\",str(rfc_accuracy_cv) + \"%\")"
      ],
      "metadata": {
        "execution": {
          "iopub.status.busy": "2023-10-14T20:00:13.087892Z",
          "iopub.execute_input": "2023-10-14T20:00:13.088395Z",
          "iopub.status.idle": "2023-10-14T20:01:21.100094Z",
          "shell.execute_reply.started": "2023-10-14T20:00:13.088362Z",
          "shell.execute_reply": "2023-10-14T20:01:21.099187Z"
        },
        "trusted": true,
        "id": "_unV3-jUz37E",
        "outputId": "900e93c2-1148-443a-81bd-1f0aa4beffa9"
      },
      "execution_count": null,
      "outputs": [
        {
          "name": "stdout",
          "text": "Hyperparameters: {'criterion': 'entropy', 'n_estimators': 100}\nTrain Score: 98.75%\nAccuracy Score: 97.5%\n",
          "output_type": "stream"
        }
      ]
    },
    {
      "cell_type": "markdown",
      "source": [
        "<a id='29'></a>\n",
        "# SVM Classifier"
      ],
      "metadata": {
        "id": "vUEhm8GHz37E"
      }
    },
    {
      "cell_type": "markdown",
      "source": [
        "<a id='30'></a>\n",
        "### Default Parameters"
      ],
      "metadata": {
        "id": "kKihLVuFz37E"
      }
    },
    {
      "cell_type": "code",
      "source": [
        "from sklearn.svm import SVC\n",
        "svc = SVC(random_state = 42)\n",
        "svc.fit(x_train,y_train)\n",
        "y_pred=svc.predict(x_test)\n",
        "svm_train = np.mean(cross_val_score(svc, x_train, y_train, cv=5) * 100)\n",
        "\n",
        "svm_accuracy = np.mean(svc.score(x_test,y_test) * 100)\n",
        "svm_precision = np.mean(precision_score(y_test, y_pred, average=None) * 100)\n",
        "svm_recall = round(np.mean(recall_score(y_test, y_pred, average=None) * 100))\n",
        "\n",
        "\n",
        "print(\"Train Score:\",str(svm_train) + \"%\")\n",
        "print(\"Accuracy Score:\",str(svm_accuracy) + \"%\")\n",
        "print(\"Precision Score : \", str(svm_precision) + \"%\")\n",
        "print(\"Recall Score : \", str(svm_recall) + \"%\")"
      ],
      "metadata": {
        "execution": {
          "iopub.status.busy": "2023-10-14T20:01:36.729821Z",
          "iopub.execute_input": "2023-10-14T20:01:36.730310Z",
          "iopub.status.idle": "2023-10-14T20:01:36.779674Z",
          "shell.execute_reply.started": "2023-10-14T20:01:36.730279Z",
          "shell.execute_reply": "2023-10-14T20:01:36.778737Z"
        },
        "trusted": true,
        "id": "tgpC6xeez37E",
        "outputId": "377bdecd-3643-4aa5-981f-f1aca467bce1"
      },
      "execution_count": null,
      "outputs": [
        {
          "name": "stdout",
          "text": "Train Score: 71.25%\nAccuracy Score: 65.0%\nPrecision Score :  27.916666666666664%\nRecall Score :  40.0%\n",
          "output_type": "stream"
        }
      ]
    },
    {
      "cell_type": "markdown",
      "source": [
        "<a id='31'></a>\n",
        "### GridSearchCV on SVM"
      ],
      "metadata": {
        "id": "0Lx9axq1z37F"
      }
    },
    {
      "cell_type": "code",
      "source": [
        "grid = {\n",
        "    'C':[0.01,0.1,1,10],\n",
        "    'kernel' : [\"linear\",\"poly\",\"rbf\",\"sigmoid\"],\n",
        "    'degree' : [1,3,5,7],\n",
        "    'gamma' : [0.01,1]\n",
        "}\n",
        "\n",
        "svm  = SVC ();\n",
        "svm_cv = GridSearchCV(svm, grid, cv = 5)\n",
        "svm_cv.fit(x_train,y_train)\n",
        "\n",
        "# train\n",
        "svm_train_cv = svm_cv.best_score_ * 100\n",
        "# test\n",
        "svm_accuracy_cv = svm_cv.score(x_test,y_test) * 100\n",
        "\n",
        "print(\"Best Parameters:\",svm_cv.best_params_)\n",
        "print(\"Train Score:\",str(svm_train_cv) + \"%\")\n",
        "print(\"Accuracy Score:\",str(svm_accuracy_cv) + \"%\")"
      ],
      "metadata": {
        "execution": {
          "iopub.status.busy": "2023-10-14T20:01:50.443443Z",
          "iopub.execute_input": "2023-10-14T20:01:50.443802Z",
          "iopub.status.idle": "2023-10-14T20:01:59.488919Z",
          "shell.execute_reply.started": "2023-10-14T20:01:50.443769Z",
          "shell.execute_reply": "2023-10-14T20:01:59.487724Z"
        },
        "trusted": true,
        "id": "0Q10eBiGz37F",
        "outputId": "1e40f9e2-a545-4439-8de5-71013d65916b"
      },
      "execution_count": null,
      "outputs": [
        {
          "name": "stdout",
          "text": "Best Parameters: {'C': 1, 'degree': 1, 'gamma': 0.01, 'kernel': 'linear'}\nTrain Score: 98.75%\nAccuracy Score: 97.5%\n",
          "output_type": "stream"
        }
      ]
    },
    {
      "cell_type": "markdown",
      "source": [
        "<a id='32'></a>\n",
        "# Conclusion"
      ],
      "metadata": {
        "id": "mabMuqq5z37F"
      }
    },
    {
      "cell_type": "code",
      "source": [
        "import pandas as pd\n",
        "matrix = pd.DataFrame({\n",
        "    \"Model\" : [\"KNN\", \"Random Forest\", \"SVM\"],\n",
        "    \"Default_Accuracy\" : [knn_accuracy, rfc_accuracy, svm_accuracy],\n",
        "    \"GridCV_Accuracy\" : [knn_accuracy_cv, rfc_accuracy_cv, svm_accuracy_cv],\n",
        "    \"Precision\" : [knn_precision, rfc_precision, svm_precision],\n",
        "    \"Recall\" :[knn_recall, rfc_recall, svm_recall],\n",
        "})\n",
        "print(matrix)"
      ],
      "metadata": {
        "execution": {
          "iopub.status.busy": "2023-10-14T20:02:17.726537Z",
          "iopub.execute_input": "2023-10-14T20:02:17.727258Z",
          "iopub.status.idle": "2023-10-14T20:02:17.738925Z",
          "shell.execute_reply.started": "2023-10-14T20:02:17.727219Z",
          "shell.execute_reply": "2023-10-14T20:02:17.737884Z"
        },
        "trusted": true,
        "id": "SiUA8De5z37F",
        "outputId": "5d5ee88e-f66c-4729-a4ec-03a3813ea731"
      },
      "execution_count": null,
      "outputs": [
        {
          "name": "stdout",
          "text": "           Model  Default_Accuracy  GridCV_Accuracy  Precision  Recall\n0            KNN              65.0             70.0  56.250000    56.0\n1  Random Forest              97.5             97.5  98.333333    96.0\n2            SVM              65.0             97.5  27.916667    40.0\n",
          "output_type": "stream"
        }
      ]
    }
  ]
}